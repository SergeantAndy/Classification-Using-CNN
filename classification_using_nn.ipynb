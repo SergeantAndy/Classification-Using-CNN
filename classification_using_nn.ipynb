{
 "cells": [
  {
   "cell_type": "markdown",
   "metadata": {},
   "source": [
    "## <center> Import Libs"
   ]
  },
  {
   "cell_type": "code",
   "execution_count": 28,
   "metadata": {},
   "outputs": [],
   "source": [
    "import tensorflow as tf\n",
    "from tensorflow import keras\n",
    "\n",
    "import numpy as np\n",
    "\n",
    "import matplotlib.pyplot as plt\n",
    "%matplotlib inline\n",
    "plt.rcParams[\"figure.figsize\"] = (13, 8)\n",
    "plt.rcParams[\"font.size\"] = 18\n",
    "\n",
    "import visualkeras"
   ]
  },
  {
   "cell_type": "markdown",
   "metadata": {},
   "source": [
    "## <center> Import Data"
   ]
  },
  {
   "cell_type": "code",
   "execution_count": 29,
   "metadata": {},
   "outputs": [
    {
     "name": "stdout",
     "output_type": "stream",
     "text": [
      "X_train shape: (60000, 28, 28)\n",
      "X_tests shape: (10000, 28, 28)\n",
      "y_train shape: (60000,)\n",
      "y_test shape: (10000,)\n"
     ]
    }
   ],
   "source": [
    "fashion = keras.datasets.fashion_mnist\n",
    "(X_train, y_train), (X_test, y_test) = fashion.load_data()\n",
    "\n",
    "print(f\"X_train shape: {X_train.shape}\")\n",
    "print(f\"X_tests shape: {X_test.shape}\")\n",
    "print(f\"y_train shape: {y_train.shape}\")\n",
    "print(f\"y_test shape: {y_test.shape}\")"
   ]
  },
  {
   "cell_type": "code",
   "execution_count": 30,
   "metadata": {},
   "outputs": [
    {
     "data": {
      "text/plain": [
       "<matplotlib.image.AxesImage at 0x2da058a30>"
      ]
     },
     "execution_count": 30,
     "metadata": {},
     "output_type": "execute_result"
    },
    {
     "data": {
      "image/png": "[encoded data removed]",
      "text/plain": [
       "<Figure size 936x576 with 4 Axes>"
      ]
     },
     "metadata": {
      "needs_background": "light"
     },
     "output_type": "display_data"
    }
   ],
   "source": [
    "fig, ax = plt.subplots(ncols=4, nrows=1)\n",
    "\n",
    "ax[0].imshow(X_train[10])\n",
    "ax[1].imshow(X_train[15])\n",
    "ax[2].imshow(X_train[11])\n",
    "ax[3].imshow(X_train[13])"
   ]
  },
  {
   "cell_type": "markdown",
   "metadata": {},
   "source": [
    "## <center> Building a Neural network structure"
   ]
  },
  {
   "cell_type": "code",
   "execution_count": 31,
   "metadata": {},
   "outputs": [
    {
     "name": "stdout",
     "output_type": "stream",
     "text": [
      "Model: \"sequential_1\"\n",
      "_________________________________________________________________\n",
      " Layer (type)                Output Shape              Param #   \n",
      "=================================================================\n",
      " conv2d_2 (Conv2D)           (None, 26, 26, 32)        320       \n",
      "                                                                 \n",
      " conv2d_3 (Conv2D)           (None, 24, 24, 64)        18496     \n",
      "                                                                 \n",
      " max_pooling2d_1 (MaxPooling  (None, 12, 12, 64)       0         \n",
      " 2D)                                                             \n",
      "                                                                 \n",
      " dropout_2 (Dropout)         (None, 12, 12, 64)        0         \n",
      "                                                                 \n",
      " flatten_1 (Flatten)         (None, 9216)              0         \n",
      "                                                                 \n",
      " dense_2 (Dense)             (None, 128)               1179776   \n",
      "                                                                 \n",
      " dropout_3 (Dropout)         (None, 128)               0         \n",
      "                                                                 \n",
      " dense_3 (Dense)             (None, 10)                1290      \n",
      "                                                                 \n",
      "=================================================================\n",
      "Total params: 1,199,882\n",
      "Trainable params: 1,199,882\n",
      "Non-trainable params: 0\n",
      "_________________________________________________________________\n",
      "None\n"
     ]
    }
   ],
   "source": [
    "model = keras.models.Sequential([\n",
    "    keras.layers.Conv2D(\n",
    "        32, \n",
    "        kernel_size=(3, 3),\n",
    "        activation='relu',\n",
    "        input_shape = [28,28,1]\n",
    "    ),\n",
    "\n",
    "    keras.layers.Conv2D(\n",
    "        64, \n",
    "        kernel_size=(3, 3),\n",
    "        activation='relu'\n",
    "    ),\n",
    "\n",
    "    keras.layers.MaxPooling2D(pool_size=(2, 2)),\n",
    "    keras.layers.Dropout(0.25),\n",
    "    keras.layers.Flatten(),\n",
    "    keras.layers.Dense(128, activation=\"relu\"),\n",
    "    keras.layers.Dropout(0.5),\n",
    "    keras.layers.Dense(10, activation=\"softmax\")\n",
    "])\n",
    "\n",
    "print(model.summary())"
   ]
  },
  {
   "cell_type": "code",
   "execution_count": 32,
   "metadata": {},
   "outputs": [
    {
     "data": {
      "image/png": "[encoded data removed]",
      "text/plain": [
       "<PIL.Image.Image image mode=RGBA size=651x139>"
      ]
     },
     "execution_count": 32,
     "metadata": {},
     "output_type": "execute_result"
    }
   ],
   "source": [
    "visualkeras.layered_view(model)"
   ]
  },
  {
   "cell_type": "markdown",
   "metadata": {},
   "source": [
    "## <center> Train / Validation data split"
   ]
  },
  {
   "cell_type": "code",
   "execution_count": 33,
   "metadata": {},
   "outputs": [
    {
     "name": "stdout",
     "output_type": "stream",
     "text": [
      "X_train shape: (55000, 28, 28)\n",
      "X_val shape: (5000, 28, 28)\n",
      "y_train shape: (55000,)\n",
      "y_val shape: (5000,)\n"
     ]
    }
   ],
   "source": [
    "val_data_splitter = 55000\n",
    "\n",
    "X_train, X_val = X_train[:val_data_splitter]/255.0, X_train[val_data_splitter:]/255.0\n",
    "y_train, y_val = y_train[:val_data_splitter], y_train[val_data_splitter:]\n",
    "\n",
    "print(f\"X_train shape: {X_train.shape}\")\n",
    "print(f\"X_val shape: {X_val.shape}\")\n",
    "print(f\"y_train shape: {y_train.shape}\")\n",
    "print(f\"y_val shape: {y_val.shape}\")"
   ]
  },
  {
   "cell_type": "markdown",
   "metadata": {},
   "source": [
    "## <center> Run Model"
   ]
  },
  {
   "cell_type": "code",
   "execution_count": 34,
   "metadata": {},
   "outputs": [
    {
     "name": "stdout",
     "output_type": "stream",
     "text": [
      "Epoch 1/10\n",
      "   5/1719 [..............................] - ETA: 26s - loss: 2.2424 - accuracy: 0.2375 "
     ]
    },
    {
     "name": "stderr",
     "output_type": "stream",
     "text": [
      "2022-08-16 10:57:06.387240: I tensorflow/core/grappler/optimizers/custom_graph_optimizer_registry.cc:113] Plugin optimizer for device_type GPU is enabled.\n"
     ]
    },
    {
     "name": "stdout",
     "output_type": "stream",
     "text": [
      "1719/1719 [==============================] - ETA: 0s - loss: 0.4575 - accuracy: 0.8400"
     ]
    },
    {
     "name": "stderr",
     "output_type": "stream",
     "text": [
      "2022-08-16 10:57:30.310312: I tensorflow/core/grappler/optimizers/custom_graph_optimizer_registry.cc:113] Plugin optimizer for device_type GPU is enabled.\n"
     ]
    },
    {
     "name": "stdout",
     "output_type": "stream",
     "text": [
      "1719/1719 [==============================] - 25s 15ms/step - loss: 0.4575 - accuracy: 0.8400 - val_loss: 0.2783 - val_accuracy: 0.8970\n",
      "Epoch 2/10\n",
      "1719/1719 [==============================] - 25s 14ms/step - loss: 0.2930 - accuracy: 0.8946 - val_loss: 0.2454 - val_accuracy: 0.9122\n",
      "Epoch 3/10\n",
      "1719/1719 [==============================] - 25s 14ms/step - loss: 0.2422 - accuracy: 0.9117 - val_loss: 0.2183 - val_accuracy: 0.9178\n",
      "Epoch 4/10\n",
      "1719/1719 [==============================] - 25s 14ms/step - loss: 0.2135 - accuracy: 0.9210 - val_loss: 0.2178 - val_accuracy: 0.9208\n",
      "Epoch 5/10\n",
      "1719/1719 [==============================] - 27s 15ms/step - loss: 0.1922 - accuracy: 0.9294 - val_loss: 0.2154 - val_accuracy: 0.9210\n",
      "Epoch 6/10\n",
      "1719/1719 [==============================] - 25s 15ms/step - loss: 0.1723 - accuracy: 0.9359 - val_loss: 0.2175 - val_accuracy: 0.9262\n",
      "Epoch 7/10\n",
      "1719/1719 [==============================] - 26s 15ms/step - loss: 0.1563 - accuracy: 0.9423 - val_loss: 0.2346 - val_accuracy: 0.9176\n",
      "Epoch 8/10\n",
      "1719/1719 [==============================] - 26s 15ms/step - loss: 0.1414 - accuracy: 0.9477 - val_loss: 0.2102 - val_accuracy: 0.9250\n",
      "Epoch 9/10\n",
      "1719/1719 [==============================] - 26s 15ms/step - loss: 0.1332 - accuracy: 0.9509 - val_loss: 0.2184 - val_accuracy: 0.9264\n",
      "Epoch 10/10\n",
      "1719/1719 [==============================] - 26s 15ms/step - loss: 0.1217 - accuracy: 0.9547 - val_loss: 0.2303 - val_accuracy: 0.9262\n"
     ]
    }
   ],
   "source": [
    "model.compile(\n",
    "    loss=\"sparse_categorical_crossentropy\",\n",
    "    optimizer=\"adam\",\n",
    "    metrics=[\"accuracy\"]\n",
    ")\n",
    "history = model.fit(\n",
    "    X_train, \n",
    "    y_train, \n",
    "    epochs = 10, \n",
    "    validation_data = (X_val, y_val)\n",
    ")"
   ]
  },
  {
   "cell_type": "code",
   "execution_count": 35,
   "metadata": {},
   "outputs": [
    {
     "data": {
      "text/plain": [
       "<matplotlib.legend.Legend at 0x2d5d00460>"
      ]
     },
     "execution_count": 35,
     "metadata": {},
     "output_type": "execute_result"
    },
    {
     "data": {
      "image/png": "[encoded data removed]",
      "text/plain": [
       "<Figure size 936x576 with 1 Axes>"
      ]
     },
     "metadata": {
      "needs_background": "light"
     },
     "output_type": "display_data"
    }
   ],
   "source": [
    "plt.plot(history.history['loss'], label = 'Loss')\n",
    "plt.plot(history.history['accuracy'], label = 'Accuracy')\n",
    "plt.legend()"
   ]
  }
 ],
 "metadata": {
  "kernelspec": {
   "display_name": "Python 3.9.13",
   "language": "python",
   "name": "python3"
  },
  "language_info": {
   "codemirror_mode": {
    "name": "ipython",
    "version": 3
   },
   "file_extension": ".py",
   "mimetype": "text/x-python",
   "name": "python",
   "nbconvert_exporter": "python",
   "pygments_lexer": "ipython3",
   "version": "3.9.13"
  },
  "orig_nbformat": 4,
  "vscode": {
   "interpreter": {
    "hash": "42b87413b563b37a71c86d6bda0c4e9fd40d783b50dd417d72131392f4037e5c"
   }
  }
 },
 "nbformat": 4,
 "nbformat_minor": 2
}
